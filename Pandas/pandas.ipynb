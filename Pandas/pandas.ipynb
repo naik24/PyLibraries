{
 "cells": [
  {
   "cell_type": "markdown",
   "id": "958ea93d-6c51-4cd4-a0b9-44ea36e7805a",
   "metadata": {},
   "source": [
    "# Data Structures in Pandas"
   ]
  },
  {
   "cell_type": "code",
   "execution_count": 2,
   "id": "4961062e-28af-4ef2-b074-262a8bc0bcf8",
   "metadata": {},
   "outputs": [],
   "source": [
    "import pandas as pd\n",
    "import numpy as np"
   ]
  },
  {
   "cell_type": "markdown",
   "id": "c91f80ee-baf8-47df-8f35-6345873c26c3",
   "metadata": {},
   "source": [
    "## Series\n",
    "\n",
    "Series is 1D labeled array capable of holding any datatype (integers, strings, floating point numbers, Python objects, etc.). The axis labels are collectively referred to as the index. "
   ]
  },
  {
   "cell_type": "code",
   "execution_count": 3,
   "id": "dd6f451b-6252-46d3-9291-a17adc7784cd",
   "metadata": {},
   "outputs": [
    {
     "name": "stdout",
     "output_type": "stream",
     "text": [
      "0    1\n",
      "1    2\n",
      "2    3\n",
      "3    5\n",
      "4    5\n",
      "dtype: int64\n"
     ]
    }
   ],
   "source": [
    "data = [1,2,3,5,5]\n",
    "s = pd.Series(data)\n",
    "\n",
    "print(s)"
   ]
  },
  {
   "cell_type": "code",
   "execution_count": 4,
   "id": "62225f9f-d16d-4685-82d7-b7c20a5b995e",
   "metadata": {},
   "outputs": [
    {
     "name": "stdout",
     "output_type": "stream",
     "text": [
      "a    1.622861\n",
      "b    1.157841\n",
      "c   -0.893660\n",
      "d   -1.694600\n",
      "e   -0.989152\n",
      "dtype: float64\n"
     ]
    }
   ],
   "source": [
    "# from ndarray\n",
    "s = pd.Series(np.random.randn(5), index = [\"a\", \"b\", \"c\", \"d\", \"e\"])\n",
    "print(s)"
   ]
  },
  {
   "cell_type": "code",
   "execution_count": 5,
   "id": "d5c6fa4e-e30e-4822-8e92-f87af6cd77b8",
   "metadata": {},
   "outputs": [
    {
     "name": "stdout",
     "output_type": "stream",
     "text": [
      "b    1\n",
      "a    3\n",
      "c    4\n",
      "dtype: int64\n"
     ]
    }
   ],
   "source": [
    "# from dict\n",
    "d = {\"b\" : 1, \"a\" : 3, \"c\" : 4}\n",
    "\n",
    "print(pd.Series(d))"
   ]
  },
  {
   "cell_type": "code",
   "execution_count": 6,
   "id": "bad6efcc-888c-48c6-b5c0-df9633122709",
   "metadata": {},
   "outputs": [
    {
     "name": "stdout",
     "output_type": "stream",
     "text": [
      "a    69\n",
      "b    69\n",
      "c    69\n",
      "d    69\n",
      "dtype: int64\n"
     ]
    }
   ],
   "source": [
    "# from scalar value\n",
    "print(pd.Series(69, index = [\"a\", \"b\", \"c\", \"d\"]))"
   ]
  },
  {
   "cell_type": "markdown",
   "id": "c6d31928-a315-45ee-9cd9-bb64fe2ccc79",
   "metadata": {},
   "source": [
    "Series acts very similary to a ndarray, and is a valid argument to most NumPy functions"
   ]
  },
  {
   "cell_type": "code",
   "execution_count": 7,
   "id": "38e5dcb9-1bb6-4d01-95a5-2dd11cfe8890",
   "metadata": {},
   "outputs": [
    {
     "name": "stdout",
     "output_type": "stream",
     "text": [
      "a    1\n",
      "b    2\n",
      "c    3\n",
      "d    5\n",
      "e    5\n",
      "dtype: int64\n",
      "a    1\n",
      "b    2\n",
      "c    3\n",
      "dtype: int64\n",
      "d    5\n",
      "e    5\n",
      "dtype: int64\n",
      "a      2.718282\n",
      "b      7.389056\n",
      "c     20.085537\n",
      "d    148.413159\n",
      "e    148.413159\n",
      "dtype: float64\n"
     ]
    }
   ],
   "source": [
    "data = [1,2,3,5,5]\n",
    "s = pd.Series(data, index = [\"a\", \"b\", \"c\", \"d\", \"e\"])\n",
    "\n",
    "print(s)\n",
    "print(s[:3])\n",
    "print(s[s > s.median()])\n",
    "print(np.exp(s))"
   ]
  },
  {
   "cell_type": "code",
   "execution_count": 8,
   "id": "c9f763e2-12b8-4ae8-a0f3-27c58f11589c",
   "metadata": {},
   "outputs": [
    {
     "name": "stdout",
     "output_type": "stream",
     "text": [
      "[1 2 3 5 5]\n"
     ]
    }
   ],
   "source": [
    "d = s.to_numpy()\n",
    "print(d)"
   ]
  },
  {
   "cell_type": "code",
   "execution_count": 9,
   "id": "b92ed9dd-120f-46a2-a79e-c8aa3a8c07bc",
   "metadata": {},
   "outputs": [
    {
     "name": "stdout",
     "output_type": "stream",
     "text": [
      "1    95\n",
      "2    92\n",
      "3    91\n",
      "Name: rankings, dtype: int64\n"
     ]
    }
   ],
   "source": [
    "rankings = pd.Series([95, 92, 91], index = [1, 2, 3], name = \"rankings\")\n",
    "print(rankings)"
   ]
  },
  {
   "cell_type": "markdown",
   "id": "830c785d-cae4-4c40-ab0e-05cad8e913a4",
   "metadata": {},
   "source": [
    "## DataFrame\n",
    "\n",
    "DataFrame is a 2D labeled data structure with columns of potentially different types. \n",
    "\n",
    "DataFrame accepts many kinds of input:\n",
    "- Dict of 1D ndarrays, lists, dicts, or Series\n",
    "- 2D numpy.ndarray\n",
    "- Structured or record ndarray\n",
    "- A series\n",
    "- Another DataFrame"
   ]
  },
  {
   "cell_type": "code",
   "execution_count": 101,
   "id": "166845a4-6efa-440f-b25a-a22a41ed45d4",
   "metadata": {},
   "outputs": [
    {
     "name": "stdout",
     "output_type": "stream",
     "text": [
      "         player1  player2\n",
      "Goals         22       10\n",
      "Assists       13        7\n"
     ]
    }
   ],
   "source": [
    "import pandas as pd\n",
    "\n",
    "d = {\n",
    "    \"player1\": pd.Series([22, 13], index = [\"Goals\", \"Assists\"]),\n",
    "    \"player2\": pd.Series([10, 7], index = [\"Goals\", \"Assists\"])\n",
    "}\n",
    "\n",
    "df = pd.DataFrame(d)\n",
    "print(df)"
   ]
  },
  {
   "cell_type": "code",
   "execution_count": 102,
   "id": "ac7e335f-4c81-40b8-a231-f0484a10034c",
   "metadata": {},
   "outputs": [
    {
     "data": {
      "text/plain": [
       "22"
      ]
     },
     "execution_count": 102,
     "metadata": {},
     "output_type": "execute_result"
    }
   ],
   "source": [
    "df.player1[\"Goals\"]"
   ]
  },
  {
   "cell_type": "code",
   "execution_count": 103,
   "id": "5f7312be-b94a-4cb8-8792-03cc837ea056",
   "metadata": {},
   "outputs": [
    {
     "name": "stdout",
     "output_type": "stream",
     "text": [
      "         Salah  DeBruyne\n",
      "Goals       22        12\n",
      "Assists     12         7\n"
     ]
    }
   ],
   "source": [
    "from collections import namedtuple\n",
    "\n",
    "Players = namedtuple(\"Players\", \"Salah DeBruyne\")\n",
    "\n",
    "df = pd.DataFrame([Players(22, 12), Players(12, 7)], index = [\"Goals\", \"Assists\"])\n",
    "\n",
    "print(df)"
   ]
  },
  {
   "cell_type": "code",
   "execution_count": 104,
   "id": "d151e7e0-23fa-4bf4-94ff-681cc9e7a5db",
   "metadata": {},
   "outputs": [
    {
     "data": {
      "text/plain": [
       "Goals      22\n",
       "Assists    12\n",
       "Name: Salah, dtype: int64"
      ]
     },
     "execution_count": 104,
     "metadata": {},
     "output_type": "execute_result"
    }
   ],
   "source": [
    "df[\"Salah\"]"
   ]
  },
  {
   "cell_type": "code",
   "execution_count": 105,
   "id": "f9578555-0e3e-443e-9820-0c0138045c75",
   "metadata": {},
   "outputs": [
    {
     "data": {
      "text/html": [
       "<div>\n",
       "<style scoped>\n",
       "    .dataframe tbody tr th:only-of-type {\n",
       "        vertical-align: middle;\n",
       "    }\n",
       "\n",
       "    .dataframe tbody tr th {\n",
       "        vertical-align: top;\n",
       "    }\n",
       "\n",
       "    .dataframe thead th {\n",
       "        text-align: right;\n",
       "    }\n",
       "</style>\n",
       "<table border=\"1\" class=\"dataframe\">\n",
       "  <thead>\n",
       "    <tr style=\"text-align: right;\">\n",
       "      <th></th>\n",
       "      <th>Salah</th>\n",
       "    </tr>\n",
       "  </thead>\n",
       "  <tbody>\n",
       "    <tr>\n",
       "      <th>Goals</th>\n",
       "      <td>22</td>\n",
       "    </tr>\n",
       "    <tr>\n",
       "      <th>Assists</th>\n",
       "      <td>12</td>\n",
       "    </tr>\n",
       "  </tbody>\n",
       "</table>\n",
       "</div>"
      ],
      "text/plain": [
       "         Salah\n",
       "Goals       22\n",
       "Assists     12"
      ]
     },
     "execution_count": 105,
     "metadata": {},
     "output_type": "execute_result"
    }
   ],
   "source": [
    "del df[\"DeBruyne\"]\n",
    "df"
   ]
  },
  {
   "cell_type": "code",
   "execution_count": 106,
   "id": "f37cb75b-2ee7-40c0-b983-3ed3bf1a0d33",
   "metadata": {},
   "outputs": [
    {
     "data": {
      "text/html": [
       "<div>\n",
       "<style scoped>\n",
       "    .dataframe tbody tr th:only-of-type {\n",
       "        vertical-align: middle;\n",
       "    }\n",
       "\n",
       "    .dataframe tbody tr th {\n",
       "        vertical-align: top;\n",
       "    }\n",
       "\n",
       "    .dataframe thead th {\n",
       "        text-align: right;\n",
       "    }\n",
       "</style>\n",
       "<table border=\"1\" class=\"dataframe\">\n",
       "  <thead>\n",
       "    <tr style=\"text-align: right;\">\n",
       "      <th></th>\n",
       "      <th>Salah</th>\n",
       "      <th>Son</th>\n",
       "    </tr>\n",
       "  </thead>\n",
       "  <tbody>\n",
       "    <tr>\n",
       "      <th>Goals</th>\n",
       "      <td>22</td>\n",
       "      <td>22</td>\n",
       "    </tr>\n",
       "    <tr>\n",
       "      <th>Assists</th>\n",
       "      <td>12</td>\n",
       "      <td>3</td>\n",
       "    </tr>\n",
       "  </tbody>\n",
       "</table>\n",
       "</div>"
      ],
      "text/plain": [
       "         Salah  Son\n",
       "Goals       22   22\n",
       "Assists     12    3"
      ]
     },
     "execution_count": 106,
     "metadata": {},
     "output_type": "execute_result"
    }
   ],
   "source": [
    "df[\"Son\"] = [22, 3]\n",
    "df"
   ]
  },
  {
   "cell_type": "code",
   "execution_count": 107,
   "id": "1e2a8f16-bb53-4380-b38e-a384631accc5",
   "metadata": {},
   "outputs": [
    {
     "data": {
      "text/html": [
       "<div>\n",
       "<style scoped>\n",
       "    .dataframe tbody tr th:only-of-type {\n",
       "        vertical-align: middle;\n",
       "    }\n",
       "\n",
       "    .dataframe tbody tr th {\n",
       "        vertical-align: top;\n",
       "    }\n",
       "\n",
       "    .dataframe thead th {\n",
       "        text-align: right;\n",
       "    }\n",
       "</style>\n",
       "<table border=\"1\" class=\"dataframe\">\n",
       "  <thead>\n",
       "    <tr style=\"text-align: right;\">\n",
       "      <th></th>\n",
       "      <th>Salah</th>\n",
       "      <th>Son</th>\n",
       "      <th>Mane</th>\n",
       "    </tr>\n",
       "  </thead>\n",
       "  <tbody>\n",
       "    <tr>\n",
       "      <th>Goals</th>\n",
       "      <td>22</td>\n",
       "      <td>22</td>\n",
       "      <td>12.0</td>\n",
       "    </tr>\n",
       "    <tr>\n",
       "      <th>Assists</th>\n",
       "      <td>12</td>\n",
       "      <td>3</td>\n",
       "      <td>NaN</td>\n",
       "    </tr>\n",
       "  </tbody>\n",
       "</table>\n",
       "</div>"
      ],
      "text/plain": [
       "         Salah  Son  Mane\n",
       "Goals       22   22  12.0\n",
       "Assists     12    3   NaN"
      ]
     },
     "execution_count": 107,
     "metadata": {},
     "output_type": "execute_result"
    }
   ],
   "source": [
    "df.insert(2, \"Mane\", [12, np.nan])\n",
    "df"
   ]
  },
  {
   "cell_type": "markdown",
   "id": "d774125c",
   "metadata": {},
   "source": [
    "We can also convert a DataFrame into a dictionary"
   ]
  },
  {
   "cell_type": "code",
   "execution_count": 108,
   "id": "e1859a70",
   "metadata": {},
   "outputs": [
    {
     "data": {
      "text/plain": [
       "{'Salah': Goals      22\n",
       " Assists    12\n",
       " Name: Salah, dtype: int64,\n",
       " 'Son': Goals      22\n",
       " Assists     3\n",
       " Name: Son, dtype: int64,\n",
       " 'Mane': Goals      12.0\n",
       " Assists     NaN\n",
       " Name: Mane, dtype: float64}"
      ]
     },
     "execution_count": 108,
     "metadata": {},
     "output_type": "execute_result"
    }
   ],
   "source": [
    "dict(df)"
   ]
  },
  {
   "cell_type": "code",
   "execution_count": 109,
   "id": "e84e8fda",
   "metadata": {},
   "outputs": [
    {
     "name": "stdout",
     "output_type": "stream",
     "text": [
      "Contribution per Game for Salah:  0.8947368421052632\n"
     ]
    }
   ],
   "source": [
    "contributionPerGameSalah = (df.loc[\"Goals\"][\"Salah\"] +\n",
    "                               df.loc[\"Assists\"][\"Salah\"]) / 38\n",
    "print(\"Contribution per Game for Salah: \", contributionPerGameSalah )"
   ]
  },
  {
   "cell_type": "code",
   "execution_count": 110,
   "id": "6ff79740",
   "metadata": {},
   "outputs": [
    {
     "data": {
      "text/html": [
       "<div>\n",
       "<style scoped>\n",
       "    .dataframe tbody tr th:only-of-type {\n",
       "        vertical-align: middle;\n",
       "    }\n",
       "\n",
       "    .dataframe tbody tr th {\n",
       "        vertical-align: top;\n",
       "    }\n",
       "\n",
       "    .dataframe thead th {\n",
       "        text-align: right;\n",
       "    }\n",
       "</style>\n",
       "<table border=\"1\" class=\"dataframe\">\n",
       "  <thead>\n",
       "    <tr style=\"text-align: right;\">\n",
       "      <th></th>\n",
       "      <th>Goals</th>\n",
       "      <th>Assists</th>\n",
       "    </tr>\n",
       "  </thead>\n",
       "  <tbody>\n",
       "    <tr>\n",
       "      <th>Salah</th>\n",
       "      <td>22.0</td>\n",
       "      <td>12.0</td>\n",
       "    </tr>\n",
       "    <tr>\n",
       "      <th>Son</th>\n",
       "      <td>22.0</td>\n",
       "      <td>3.0</td>\n",
       "    </tr>\n",
       "    <tr>\n",
       "      <th>Mane</th>\n",
       "      <td>12.0</td>\n",
       "      <td>NaN</td>\n",
       "    </tr>\n",
       "  </tbody>\n",
       "</table>\n",
       "</div>"
      ],
      "text/plain": [
       "       Goals  Assists\n",
       "Salah   22.0     12.0\n",
       "Son     22.0      3.0\n",
       "Mane    12.0      NaN"
      ]
     },
     "execution_count": 110,
     "metadata": {},
     "output_type": "execute_result"
    }
   ],
   "source": [
    "df.T"
   ]
  },
  {
   "cell_type": "code",
   "execution_count": 111,
   "id": "b90647d7",
   "metadata": {},
   "outputs": [
    {
     "data": {
      "text/plain": [
       "array([[22., 22., 12.],\n",
       "       [12.,  3., nan]])"
      ]
     },
     "execution_count": 111,
     "metadata": {},
     "output_type": "execute_result"
    }
   ],
   "source": [
    "df.to_numpy()"
   ]
  },
  {
   "cell_type": "code",
   "execution_count": null,
   "id": "8b42ba47",
   "metadata": {},
   "outputs": [],
   "source": []
  }
 ],
 "metadata": {
  "kernelspec": {
   "display_name": "Python 3 (ipykernel)",
   "language": "python",
   "name": "python3"
  },
  "language_info": {
   "codemirror_mode": {
    "name": "ipython",
    "version": 3
   },
   "file_extension": ".py",
   "mimetype": "text/x-python",
   "name": "python",
   "nbconvert_exporter": "python",
   "pygments_lexer": "ipython3",
   "version": "3.10.0"
  }
 },
 "nbformat": 4,
 "nbformat_minor": 5
}
