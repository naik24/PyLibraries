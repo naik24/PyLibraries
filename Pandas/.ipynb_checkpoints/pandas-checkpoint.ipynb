{
 "cells": [
  {
   "cell_type": "markdown",
   "id": "958ea93d-6c51-4cd4-a0b9-44ea36e7805a",
   "metadata": {},
   "source": [
    "# Data Structures in Pandas"
   ]
  },
  {
   "cell_type": "code",
   "execution_count": 5,
   "id": "4961062e-28af-4ef2-b074-262a8bc0bcf8",
   "metadata": {},
   "outputs": [],
   "source": [
    "import pandas as pd\n",
    "import numpy as np"
   ]
  },
  {
   "cell_type": "markdown",
   "id": "c91f80ee-baf8-47df-8f35-6345873c26c3",
   "metadata": {},
   "source": [
    "## Series\n",
    "\n",
    "Series is 1D labeled array capable of holding any datatype (integers, strings, floating point numbers, Python objects, etc.). The axis labels are collectively referred to as the index. "
   ]
  },
  {
   "cell_type": "code",
   "execution_count": 4,
   "id": "dd6f451b-6252-46d3-9291-a17adc7784cd",
   "metadata": {},
   "outputs": [
    {
     "name": "stdout",
     "output_type": "stream",
     "text": [
      "0    1\n",
      "1    2\n",
      "2    3\n",
      "3    5\n",
      "4    5\n",
      "dtype: int64\n"
     ]
    }
   ],
   "source": [
    "data = [1,2,3,5,5]\n",
    "s = pd.Series(data)\n",
    "\n",
    "print(s)"
   ]
  },
  {
   "cell_type": "code",
   "execution_count": 11,
   "id": "62225f9f-d16d-4685-82d7-b7c20a5b995e",
   "metadata": {},
   "outputs": [
    {
     "name": "stdout",
     "output_type": "stream",
     "text": [
      "a    0.041938\n",
      "b   -1.019932\n",
      "c   -0.392706\n",
      "d   -0.056563\n",
      "e   -0.323440\n",
      "dtype: float64\n"
     ]
    }
   ],
   "source": [
    "# from ndarray\n",
    "s = pd.Series(np.random.randn(5), index = [\"a\", \"b\", \"c\", \"d\", \"e\"])\n",
    "print(s)"
   ]
  },
  {
   "cell_type": "code",
   "execution_count": 8,
   "id": "d5c6fa4e-e30e-4822-8e92-f87af6cd77b8",
   "metadata": {},
   "outputs": [
    {
     "name": "stdout",
     "output_type": "stream",
     "text": [
      "b    1\n",
      "a    3\n",
      "c    4\n",
      "dtype: int64\n"
     ]
    }
   ],
   "source": [
    "# from dict\n",
    "d = {\"b\" : 1, \"a\" : 3, \"c\" : 4}\n",
    "\n",
    "print(pd.Series(d))"
   ]
  },
  {
   "cell_type": "code",
   "execution_count": 10,
   "id": "bad6efcc-888c-48c6-b5c0-df9633122709",
   "metadata": {},
   "outputs": [
    {
     "name": "stdout",
     "output_type": "stream",
     "text": [
      "a    69\n",
      "b    69\n",
      "c    69\n",
      "d    69\n",
      "dtype: int64\n"
     ]
    }
   ],
   "source": [
    "# from scalar value\n",
    "print(pd.Series(69, index = [\"a\", \"b\", \"c\", \"d\"]))"
   ]
  },
  {
   "cell_type": "markdown",
   "id": "c6d31928-a315-45ee-9cd9-bb64fe2ccc79",
   "metadata": {},
   "source": [
    "Series acts very similary to a ndarray, and is a valid argument to most NumPy functions"
   ]
  },
  {
   "cell_type": "code",
   "execution_count": 17,
   "id": "38e5dcb9-1bb6-4d01-95a5-2dd11cfe8890",
   "metadata": {},
   "outputs": [
    {
     "name": "stdout",
     "output_type": "stream",
     "text": [
      "a    1\n",
      "b    2\n",
      "c    3\n",
      "d    5\n",
      "e    5\n",
      "dtype: int64\n",
      "a    1\n",
      "b    2\n",
      "c    3\n",
      "dtype: int64\n",
      "d    5\n",
      "e    5\n",
      "dtype: int64\n",
      "a      2.718282\n",
      "b      7.389056\n",
      "c     20.085537\n",
      "d    148.413159\n",
      "e    148.413159\n",
      "dtype: float64\n"
     ]
    }
   ],
   "source": [
    "data = [1,2,3,5,5]\n",
    "s = pd.Series(data, index = [\"a\", \"b\", \"c\", \"d\", \"e\"])\n",
    "\n",
    "print(s)\n",
    "print(s[:3])\n",
    "print(s[s > s.median()])\n",
    "print(np.exp(s))"
   ]
  },
  {
   "cell_type": "code",
   "execution_count": 16,
   "id": "c9f763e2-12b8-4ae8-a0f3-27c58f11589c",
   "metadata": {},
   "outputs": [
    {
     "name": "stdout",
     "output_type": "stream",
     "text": [
      "[1 2 3 5 5]\n"
     ]
    }
   ],
   "source": [
    "d = s.to_numpy()\n",
    "print(d)"
   ]
  },
  {
   "cell_type": "code",
   "execution_count": null,
   "id": "b92ed9dd-120f-46a2-a79e-c8aa3a8c07bc",
   "metadata": {},
   "outputs": [],
   "source": [
    "rankings = pd.Series([95, 92, 91], index = [1, 2, 3], name = rankings)\n",
    "print(rankings)"
   ]
  }
 ],
 "metadata": {
  "kernelspec": {
   "display_name": "Python 3 (ipykernel)",
   "language": "python",
   "name": "python3"
  },
  "language_info": {
   "codemirror_mode": {
    "name": "ipython",
    "version": 3
   },
   "file_extension": ".py",
   "mimetype": "text/x-python",
   "name": "python",
   "nbconvert_exporter": "python",
   "pygments_lexer": "ipython3",
   "version": "3.10.0"
  }
 },
 "nbformat": 4,
 "nbformat_minor": 5
}
