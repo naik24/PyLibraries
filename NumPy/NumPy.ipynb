{
 "cells": [
  {
   "cell_type": "markdown",
   "metadata": {},
   "source": [
    "# NumPy\n",
    "\n",
    "Numpy is an open source Python library that's used in science and engineering. The NumPy API is used extensively in Pandas, SciPy, Matplotlib, scikit-learn, scikit-image and most other data science and scientific python packages.\n",
    "\n",
    "NumPy gives us an enormous range of fast and efficient ways of creating arrays and manipulating numerical data inside them. While a Python list can contain different data types within a single list, all of the elements in a NumPy array should be homogeneous\n",
    "\n",
    "NumPy arrays are faster and more compact than Python lists. An array consumes less memory and is convenient to use. NumPy uses much less memory to store data and it provides a mechanism of specifying the data types"
   ]
  },
  {
   "cell_type": "markdown",
   "metadata": {},
   "source": [
    "### NumPy Arrays"
   ]
  },
  {
   "cell_type": "code",
   "execution_count": 1,
   "metadata": {},
   "outputs": [],
   "source": [
    "import numpy as np"
   ]
  },
  {
   "cell_type": "code",
   "execution_count": 13,
   "metadata": {},
   "outputs": [
    {
     "name": "stdout",
     "output_type": "stream",
     "text": [
      "22\n",
      "25\n",
      "32\n",
      "22\n",
      "21\n"
     ]
    }
   ],
   "source": [
    "age = np.array([22, 25, 32, 22, 21])\n",
    "\n",
    "for i in range(len(age)):\n",
    "    print(age[i])"
   ]
  },
  {
   "cell_type": "markdown",
   "metadata": {},
   "source": [
    "An N-dimensional array \"ndarray is simply an array with any number of dimensions. The ndarray class is used to represent both matrices and vectors. "
   ]
  },
  {
   "cell_type": "markdown",
   "metadata": {},
   "source": [
    "### Attributes of an array"
   ]
  },
  {
   "cell_type": "markdown",
   "metadata": {},
   "source": [
    "In NumPy, dimensions are called axes"
   ]
  },
  {
   "cell_type": "code",
   "execution_count": 5,
   "metadata": {},
   "outputs": [
    {
     "data": {
      "text/plain": [
       "[[0.0, 0.0, 0.0], [1.0, 1.0, 1.0]]"
      ]
     },
     "execution_count": 5,
     "metadata": {},
     "output_type": "execute_result"
    }
   ],
   "source": [
    "[[0., 0., 0.],\n",
    "[1., 1., 1.,]]"
   ]
  },
  {
   "cell_type": "markdown",
   "metadata": {},
   "source": [
    "The above array has 2 axes. The first axes has length 2 and the second axes has a length 3"
   ]
  },
  {
   "cell_type": "markdown",
   "metadata": {},
   "source": [
    "### Creating Basic Arrays\n",
    "\n",
    "- np.array()\n",
    "- np.zeros()\n",
    "- np.ones()\n",
    "- np.empty()\n",
    "- np.arange()\n",
    "- np.linspace()\n",
    "- dtype"
   ]
  },
  {
   "cell_type": "code",
   "execution_count": 3,
   "metadata": {},
   "outputs": [
    {
     "name": "stdout",
     "output_type": "stream",
     "text": [
      "[1 2 3]\n"
     ]
    }
   ],
   "source": [
    "a = np.array([1, 2, 3])\n",
    "print(a)"
   ]
  },
  {
   "cell_type": "code",
   "execution_count": 5,
   "metadata": {},
   "outputs": [
    {
     "name": "stdout",
     "output_type": "stream",
     "text": [
      "[0. 0.]\n",
      "[1. 1.]\n"
     ]
    }
   ],
   "source": [
    "zero_array = np.zeros(2)\n",
    "ones_array = np.ones(2)\n",
    "\n",
    "print(zero_array)\n",
    "print(ones_array)"
   ]
  },
  {
   "cell_type": "code",
   "execution_count": 6,
   "metadata": {},
   "outputs": [
    {
     "name": "stdout",
     "output_type": "stream",
     "text": [
      "[1. 1.]\n"
     ]
    }
   ],
   "source": [
    "# np.empty creates an array which has random elements,\n",
    "# depending on the state of the memory\n",
    "empty_array = np.empty(2)\n",
    "print(empty_array)"
   ]
  },
  {
   "cell_type": "code",
   "execution_count": 8,
   "metadata": {},
   "outputs": [
    {
     "name": "stdout",
     "output_type": "stream",
     "text": [
      "[0 1 2 3 4 5 6 7 8 9]\n",
      "[0 2 4 6 8]\n"
     ]
    }
   ],
   "source": [
    "# creating array with range of elements\n",
    "firstTen_array = np.arange(10)\n",
    "print(firstTen_array)\n",
    "\n",
    "# arange with intervals np.arange(first, last, interval)\n",
    "firstTenEven_array = np.arange(0, 10, 2)\n",
    "print(firstTenEven_array)"
   ]
  },
  {
   "cell_type": "code",
   "execution_count": 9,
   "metadata": {},
   "outputs": [
    {
     "name": "stdout",
     "output_type": "stream",
     "text": [
      "[ 0.          3.33333333  6.66666667 10.        ]\n"
     ]
    }
   ],
   "source": [
    "# num controls total number of elements in the output array\n",
    "spacelin_array = np.linspace(0, 10, num = 4)\n",
    "print(spacelin_array)"
   ]
  },
  {
   "cell_type": "code",
   "execution_count": 11,
   "metadata": {},
   "outputs": [
    {
     "name": "stdout",
     "output_type": "stream",
     "text": [
      "[1 1]\n"
     ]
    }
   ],
   "source": [
    "# we can specify our datatype using dtype argument\n",
    "onesInt64_array = np.ones(2, dtype = np.int64)\n",
    "print(onesInt64_array)"
   ]
  },
  {
   "cell_type": "markdown",
   "metadata": {},
   "source": [
    "### Adding, Removing, and Sorting elements\n",
    "\n",
    "- np.sort()\n",
    "    - argsort\n",
    "    - lexsort\n",
    "    - searchsorted\n",
    "    - partition\n",
    "- np.concatenate()"
   ]
  },
  {
   "cell_type": "code",
   "execution_count": 14,
   "metadata": {},
   "outputs": [],
   "source": [
    "arr = np.array([10, 20, 30, 40, 60, 50])"
   ]
  },
  {
   "cell_type": "code",
   "execution_count": 15,
   "metadata": {},
   "outputs": [
    {
     "name": "stdout",
     "output_type": "stream",
     "text": [
      "[10 20 30 40 50 60]\n"
     ]
    }
   ],
   "source": [
    "sorted_arr = np.sort(arr)\n",
    "print(sorted_arr)"
   ]
  },
  {
   "cell_type": "code",
   "execution_count": 23,
   "metadata": {},
   "outputs": [
    {
     "name": "stdout",
     "output_type": "stream",
     "text": [
      "[1 2 0]\n",
      "Sorting along column: \n",
      " [[0 1]\n",
      " [0 1]]\n"
     ]
    }
   ],
   "source": [
    "# argsort: sorting along a specified axis. returns indices\n",
    "\n",
    "# 1D array\n",
    "arr1 = np.array([35, 22, 30])\n",
    "print(np.argsort(arr1))\n",
    "\n",
    "# 2D array\n",
    "arr2 = np.array([[20, 30], \n",
    "                 [40, 50]])\n",
    "print('Sorting along column: \\n', np.argsort(arr2, axis = 1))"
   ]
  },
  {
   "cell_type": "code",
   "execution_count": 26,
   "metadata": {},
   "outputs": [
    {
     "name": "stdout",
     "output_type": "stream",
     "text": [
      "[0 6 1 3 4 5 2]\n"
     ]
    }
   ],
   "source": [
    "# lexsort\n",
    "\n",
    "arr1 = [1,5,1,4,5,9,4]\n",
    "arr2 = [150,239,832,333,696,787,222]\n",
    "\n",
    "print(np.lexsort((arr1, arr2)))"
   ]
  },
  {
   "cell_type": "code",
   "execution_count": 28,
   "metadata": {},
   "outputs": [
    {
     "name": "stdout",
     "output_type": "stream",
     "text": [
      "4\n"
     ]
    }
   ],
   "source": [
    "#searchsorted: find indices where elements should be inserted to maintain order\n",
    "arr1 = [232, 333, 444, 565, 689]\n",
    "element_to_be_inserted = 569\n",
    "\n",
    "print(np.searchsorted(arr1, element_to_be_inserted))"
   ]
  },
  {
   "cell_type": "code",
   "execution_count": 30,
   "metadata": {},
   "outputs": [
    {
     "name": "stdout",
     "output_type": "stream",
     "text": [
      "[1 1 5 4 5 9 4]\n"
     ]
    }
   ],
   "source": [
    "#partition sort\n",
    "arr1 = [1,5,1,4,5,9,4]\n",
    "print(np.partition(arr1, 1))"
   ]
  },
  {
   "cell_type": "code",
   "execution_count": 37,
   "metadata": {},
   "outputs": [
    {
     "name": "stdout",
     "output_type": "stream",
     "text": [
      "[  1   5   1   4   5   9   4 150 239 832 333 696 787 222]\n"
     ]
    }
   ],
   "source": [
    "# concatenation\n",
    "arr1 = [1,5,1,4,5,9,4]\n",
    "arr2 = [150,239,832,333,696,787,222]\n",
    "\n",
    "print(np.concatenate((arr1, arr2)))"
   ]
  },
  {
   "cell_type": "markdown",
   "metadata": {},
   "source": [
    "### Shape and Size of Array\n",
    "\n",
    "- ndrarray.dim\n",
    "- ndarray.size\n",
    "- ndarray.shape"
   ]
  },
  {
   "cell_type": "code",
   "execution_count": 7,
   "metadata": {},
   "outputs": [
    {
     "name": "stdout",
     "output_type": "stream",
     "text": [
      "1\n",
      "(5,)\n",
      "5\n",
      "\n",
      "\n",
      "2\n",
      "(2, 3)\n",
      "6\n"
     ]
    }
   ],
   "source": [
    "arr = np.array([10, 20, 30, 40, 50])\n",
    "brr = np.array([[10,20,30],\n",
    "              [40,50,60]])\n",
    "\n",
    "print(arr.ndim)\n",
    "print(arr.shape)\n",
    "print(arr.size)\n",
    "print('\\n')\n",
    "print(brr.ndim)\n",
    "print(brr.shape)\n",
    "print(brr.size)"
   ]
  },
  {
   "cell_type": "markdown",
   "metadata": {},
   "source": [
    "### Reshaping an Array\n",
    "\n",
    "- arr.reshape()"
   ]
  },
  {
   "cell_type": "code",
   "execution_count": 10,
   "metadata": {},
   "outputs": [
    {
     "name": "stdout",
     "output_type": "stream",
     "text": [
      "[0 1 2 3 4 5 6 7 8 9] \n",
      "\n",
      "[[0 1 2 3 4]\n",
      " [5 6 7 8 9]] \n",
      "\n",
      "[[0 1]\n",
      " [2 3]\n",
      " [4 5]\n",
      " [6 7]\n",
      " [8 9]]\n"
     ]
    }
   ],
   "source": [
    "arr = np.arange(10)\n",
    "print(arr, '\\n')\n",
    "\n",
    "reshaped_arr = arr.reshape(2,5)\n",
    "print(reshaped_arr, '\\n')\n",
    "\n",
    "reshaped_arr = arr.reshape(5,2)\n",
    "print(reshaped_arr)"
   ]
  },
  {
   "cell_type": "markdown",
   "metadata": {},
   "source": [
    "### Converting 1D array into a 2D array\n",
    "\n",
    "- np.newaxis\n",
    "- np.expand_dims"
   ]
  },
  {
   "cell_type": "code",
   "execution_count": 13,
   "metadata": {},
   "outputs": [
    {
     "name": "stdout",
     "output_type": "stream",
     "text": [
      "(10,) \n",
      "\n",
      "(1, 10) \n",
      "\n",
      "(1, 1, 10)\n"
     ]
    }
   ],
   "source": [
    "arr = np.arange(10)\n",
    "print(arr.shape,'\\n')\n",
    "\n",
    "arr1 = arr[np.newaxis, :]\n",
    "print(arr1.shape,'\\n')\n",
    "\n",
    "arr2 = arr1[np.newaxis, :]\n",
    "print(arr2.shape)"
   ]
  },
  {
   "cell_type": "code",
   "execution_count": 14,
   "metadata": {},
   "outputs": [
    {
     "name": "stdout",
     "output_type": "stream",
     "text": [
      "(10,) \n",
      "\n",
      "(1, 10)\n"
     ]
    }
   ],
   "source": [
    "arr = np.arange(10)\n",
    "print(arr.shape,'\\n')\n",
    "\n",
    "arr1 = np.expand_dims(arr, axis = 0)\n",
    "print(arr1.shape)"
   ]
  },
  {
   "cell_type": "markdown",
   "metadata": {},
   "source": [
    "### Indexing and Slicing"
   ]
  },
  {
   "cell_type": "code",
   "execution_count": 16,
   "metadata": {},
   "outputs": [
    {
     "name": "stdout",
     "output_type": "stream",
     "text": [
      "[0 1 2 3 4 5 6 7 8 9]\n",
      "[0 1 2]\n",
      "[0 1 2 3 4 5 6 7 8]\n"
     ]
    }
   ],
   "source": [
    "data = np.arange(10)\n",
    "print(data)\n",
    "\n",
    "print(data[0:3])\n",
    "\n",
    "print(data[:-1])"
   ]
  },
  {
   "cell_type": "code",
   "execution_count": 18,
   "metadata": {},
   "outputs": [
    {
     "name": "stdout",
     "output_type": "stream",
     "text": [
      "[[1 2 3]\n",
      " [4 5 6]]\n"
     ]
    }
   ],
   "source": [
    "data2 = np.array([[1,2,3], [4,5,6], [7,8,9]])\n",
    "print(data2[0:2])"
   ]
  },
  {
   "cell_type": "markdown",
   "metadata": {},
   "source": [
    "Conditional Indexing and Slicing"
   ]
  },
  {
   "cell_type": "code",
   "execution_count": 21,
   "metadata": {},
   "outputs": [
    {
     "name": "stdout",
     "output_type": "stream",
     "text": [
      "[1 2 3 4 0]\n",
      "[[ True  True  True  True]\n",
      " [False False False False]\n",
      " [False  True False False]]\n"
     ]
    }
   ],
   "source": [
    "data = np.array([[1 , 2, 3, 4], [5, 6, 7, 8], [9, 0, 11, 12]])\n",
    "condition = (data < 5)\n",
    "\n",
    "print(data[condition])\n",
    "print(condition)"
   ]
  },
  {
   "cell_type": "code",
   "execution_count": 22,
   "metadata": {},
   "outputs": [
    {
     "name": "stdout",
     "output_type": "stream",
     "text": [
      "(array([0, 0, 0, 0, 2], dtype=int64), array([0, 1, 2, 3, 1], dtype=int64))\n"
     ]
    }
   ],
   "source": [
    "data = np.array([[1 , 2, 3, 4], [5, 6, 7, 8], [9, 0, 11, 12]])\n",
    "data = np.nonzero(data < 5)\n",
    "\n",
    "print(data)"
   ]
  },
  {
   "cell_type": "markdown",
   "metadata": {},
   "source": [
    "In this example, a tuple of arrays is returned: one for each dimension. The first array represents the row indices where these values are found, and the second array represents the column indices where the values are found"
   ]
  },
  {
   "cell_type": "markdown",
   "metadata": {},
   "source": [
    "### Creating Array from Existing Data\n",
    "\n",
    "- np.vstack()\n",
    "- np.hstack()\n",
    "- np.hsplit()\n",
    "- .view()\n",
    "- copy()"
   ]
  },
  {
   "cell_type": "code",
   "execution_count": 4,
   "metadata": {},
   "outputs": [
    {
     "name": "stdout",
     "output_type": "stream",
     "text": [
      "Vstack: \n",
      " [[10 20]\n",
      " [30 40]\n",
      " [ 1  2]\n",
      " [ 3  4]]\n",
      "\n",
      "Hstack: \n",
      " [[10 20  1  2]\n",
      " [30 40  3  4]]\n"
     ]
    }
   ],
   "source": [
    "arr1 = np.array([[10,20],\n",
    "                [30,40]])\n",
    "\n",
    "arr2 = np.array([[1, 2],\n",
    "                [3, 4]])\n",
    "\n",
    "# Stacking arrays vertically\n",
    "arr_vertical = np.vstack((arr1, arr2))\n",
    "print(\"Vstack: \\n\", arr_vertical)\n",
    "\n",
    "# Stacking arrays horizontally\n",
    "arr_horizontal = np.hstack((arr1, arr2))\n",
    "print(\"\\nHstack: \\n\", arr_horizontal)"
   ]
  },
  {
   "cell_type": "code",
   "execution_count": 9,
   "metadata": {},
   "outputs": [
    {
     "name": "stdout",
     "output_type": "stream",
     "text": [
      "[[0 1]\n",
      " [2 3]\n",
      " [4 5]\n",
      " [6 7]\n",
      " [8 9]]\n",
      "\n",
      " [array([[0],\n",
      "       [2],\n",
      "       [4],\n",
      "       [6],\n",
      "       [8]]), array([[1],\n",
      "       [3],\n",
      "       [5],\n",
      "       [7],\n",
      "       [9]])]\n"
     ]
    }
   ],
   "source": [
    "# horizontal split\n",
    "arr = np.arange(10).reshape(5,2)\n",
    "print(arr)\n",
    "\n",
    "arr_split = np.hsplit(arr, 2)\n",
    "print(\"\\n\", arr_split)"
   ]
  },
  {
   "cell_type": "code",
   "execution_count": 14,
   "metadata": {},
   "outputs": [
    {
     "name": "stdout",
     "output_type": "stream",
     "text": [
      "arr:  [0 1 2 3 4 5 6 7 8 9]\n",
      "\n",
      "arr_view:  [0 1 2 3 4 5 6 7 8 9]\n",
      "\n",
      "arr:  [100   1   2   3   4   5   6   7   8   9]\n"
     ]
    }
   ],
   "source": [
    "# view\n",
    "arr = np.arange(10)\n",
    "print(\"arr: \", arr)\n",
    "\n",
    "arr_view = arr.view()\n",
    "print(\"\\narr_view: \", arr_view)\n",
    "\n",
    "# changing view changes original array as well\n",
    "arr_view[0] = 100\n",
    "\n",
    "print(\"\\narr: \", arr)"
   ]
  },
  {
   "cell_type": "code",
   "execution_count": 18,
   "metadata": {},
   "outputs": [
    {
     "name": "stdout",
     "output_type": "stream",
     "text": [
      "arr:  [0 1 2 3 4 5 6 7 8 9]\n",
      "\n",
      "arr_copy:  [0 1 2 3 4 5 6 7 8 9]\n",
      "\n",
      "arr:  [0 1 2 3 4 5 6 7 8 9]\n"
     ]
    }
   ],
   "source": [
    "# copy\n",
    "arr = np.arange(10)\n",
    "print(\"arr: \", arr)\n",
    "\n",
    "arr_copy = arr.copy()\n",
    "print(\"\\narr_copy: \", arr_copy)\n",
    "\n",
    "# modifying copy of an array does not modify the original array\n",
    "arr_copy[0] = 100\n",
    "\n",
    "print(\"\\narr: \", arr)"
   ]
  },
  {
   "cell_type": "markdown",
   "metadata": {},
   "source": [
    "### Basic Array Operations\n",
    "\n",
    "- Addition\n",
    "- Subtraction\n",
    "- Multiplicaiton\n",
    "- Division"
   ]
  },
  {
   "cell_type": "code",
   "execution_count": 2,
   "metadata": {},
   "outputs": [
    {
     "name": "stdout",
     "output_type": "stream",
     "text": [
      "[20.1 30.1]\n"
     ]
    }
   ],
   "source": [
    "# addition\n",
    "arr1 = np.array([20, 30])\n",
    "arr2 = np.array([0.1, 0.1])\n",
    "\n",
    "print(arr1 + arr2)"
   ]
  },
  {
   "cell_type": "code",
   "execution_count": 3,
   "metadata": {},
   "outputs": [
    {
     "name": "stdout",
     "output_type": "stream",
     "text": [
      "[19.9 29.9]\n"
     ]
    }
   ],
   "source": [
    "# subtraction\n",
    "arr1 = np.array([20, 30])\n",
    "arr2 = np.array([0.1, 0.1])\n",
    "\n",
    "print(arr1 - arr2)"
   ]
  },
  {
   "cell_type": "code",
   "execution_count": 4,
   "metadata": {},
   "outputs": [
    {
     "name": "stdout",
     "output_type": "stream",
     "text": [
      "[200. 300.]\n"
     ]
    }
   ],
   "source": [
    "# division\n",
    "arr1 = np.array([20, 30])\n",
    "arr2 = np.array([0.1, 0.1])\n",
    "\n",
    "print(arr1 / arr2)"
   ]
  },
  {
   "cell_type": "code",
   "execution_count": 7,
   "metadata": {},
   "outputs": [
    {
     "name": "stdout",
     "output_type": "stream",
     "text": [
      "[2. 3.]\n"
     ]
    }
   ],
   "source": [
    "# multiplication\n",
    "arr1 = np.array([20, 30])\n",
    "arr2 = np.array([0.1, 0.1])\n",
    "\n",
    "print(arr1 * arr2)"
   ]
  },
  {
   "cell_type": "markdown",
   "metadata": {},
   "source": [
    "### Other Array Operations\n",
    "\n",
    "- maximum\n",
    "- minimum\n",
    "- sum\n",
    "- mean\n",
    "- product\n",
    "- standard deviation"
   ]
  },
  {
   "cell_type": "code",
   "execution_count": 13,
   "metadata": {},
   "outputs": [
    {
     "name": "stdout",
     "output_type": "stream",
     "text": [
      "[0 1 2 3 4 5 6 7 8 9]\n",
      "Max(arr):  9\n",
      "Min(arr):  0\n",
      "Sum(arr):  45\n",
      "Mean(arr):  4.5\n",
      "StandardDeviation(arr):  2.8722813232690143\n",
      "Product(arr):  0\n"
     ]
    }
   ],
   "source": [
    "arr = np.arange(10)\n",
    "print(arr)\n",
    "\n",
    "# maximum\n",
    "print('Max(arr): ', arr.max())\n",
    "\n",
    "# minimum\n",
    "print('Min(arr): ', arr.min())\n",
    "\n",
    "# sum\n",
    "print('Sum(arr): ', arr.sum())\n",
    "\n",
    "# mean\n",
    "print('Mean(arr): ', arr.mean())\n",
    "\n",
    "# standard deviation\n",
    "print('StandardDeviation(arr): ', np.std(arr))\n",
    "\n",
    "# Product\n",
    "print('Product(arr): ', np.product(arr))"
   ]
  },
  {
   "cell_type": "markdown",
   "metadata": {},
   "source": [
    "### Random Number Generation\n",
    "\n",
    "The use of random number generation is an important part of configuration and evaluation of many numerical and machine learning algorithms. Whether you need to randomly initialize weights in an artificial neural network, split data into random sets, or randomly shuffle your dataset, being able to generate random numbers is essential\n",
    "\n",
    "With Generator.integers, we can generate random integers from low to high. You can set endpoint = True to make the high number inclusive\n",
    "\n",
    "**Source: Numpy Documentation**"
   ]
  },
  {
   "cell_type": "code",
   "execution_count": 15,
   "metadata": {
    "scrolled": true
   },
   "outputs": [
    {
     "name": "stdout",
     "output_type": "stream",
     "text": [
      "[[2 0]\n",
      " [3 0]\n",
      " [5 4]]\n"
     ]
    }
   ],
   "source": [
    "from numpy.random import default_rng\n",
    "rng = default_rng()\n",
    "\n",
    "print(rng.integers(6, size = (3,2)))"
   ]
  },
  {
   "cell_type": "markdown",
   "metadata": {},
   "source": [
    "### Unique Items and Counts"
   ]
  },
  {
   "cell_type": "code",
   "execution_count": 18,
   "metadata": {},
   "outputs": [
    {
     "name": "stdout",
     "output_type": "stream",
     "text": [
      "Unique entries in arr:  [10 20 30 40 50]\n",
      "Index of unique items:  [ 0  2  6  7 13]\n",
      "Frequency of Unique Items:  [4 3 3 3 1]\n"
     ]
    }
   ],
   "source": [
    "arr = np.array([10,10,20,10,20,10,30,40,20,30,30,40,40,50])\n",
    "print(\"Unique entries in arr: \", np.unique(arr))\n",
    "\n",
    "unique_items, indices_list = np.unique(arr, return_index = True)\n",
    "print(\"Index of unique items: \",indices_list)\n",
    "\n",
    "unique_items, frequency = np.unique(arr, return_counts = True)\n",
    "print(\"Frequency of Unique Items: \",frequency)"
   ]
  },
  {
   "cell_type": "markdown",
   "metadata": {},
   "source": [
    "### Transposing and Reshaping a Matrix"
   ]
  },
  {
   "cell_type": "code",
   "execution_count": 23,
   "metadata": {},
   "outputs": [
    {
     "name": "stdout",
     "output_type": "stream",
     "text": [
      "arr:  [ 0  1  2  3  4  5  6  7  8  9 10 11 12 13 14]\n",
      "reshaped arr: \n",
      " [[ 0  1  2  3  4]\n",
      " [ 5  6  7  8  9]\n",
      " [10 11 12 13 14]]\n",
      "transposed arr: \n",
      " [[ 0  5 10]\n",
      " [ 1  6 11]\n",
      " [ 2  7 12]\n",
      " [ 3  8 13]\n",
      " [ 4  9 14]]\n"
     ]
    }
   ],
   "source": [
    "arr = np.arange(15)\n",
    "print(\"arr: \", arr)\n",
    "\n",
    "arr_reshaped = arr.reshape(3, 5)\n",
    "print(\"reshaped arr: \\n\", arr_reshaped)\n",
    "\n",
    "arr_transposed = arr_reshaped.transpose()\n",
    "print(\"transposed arr: \\n\", arr_transposed)"
   ]
  },
  {
   "cell_type": "markdown",
   "metadata": {},
   "source": [
    "### Reversing array"
   ]
  },
  {
   "cell_type": "code",
   "execution_count": 24,
   "metadata": {},
   "outputs": [
    {
     "name": "stdout",
     "output_type": "stream",
     "text": [
      "[ 0  1  2  3  4  5  6  7  8  9 10 11 12 13 14]\n",
      "[14 13 12 11 10  9  8  7  6  5  4  3  2  1  0]\n"
     ]
    }
   ],
   "source": [
    "# 1D\n",
    "arr = np.arange(15)\n",
    "print(arr)\n",
    "\n",
    "arr_reversed = np.flip(arr)\n",
    "print(arr_reversed)"
   ]
  },
  {
   "cell_type": "code",
   "execution_count": 31,
   "metadata": {},
   "outputs": [
    {
     "name": "stdout",
     "output_type": "stream",
     "text": [
      "arr: \n",
      " [[10 20 30]\n",
      " [40 50 60]]\n",
      "Reversed: \n",
      " [[60 50 40]\n",
      " [30 20 10]]\n",
      "Reversing only rows: \n",
      " [[40 50 60]\n",
      " [10 20 30]]\n",
      "Reversing only columns: \n",
      " [[30 20 10]\n",
      " [60 50 40]]\n",
      "Reversing one row: \n",
      " [[10 20 30]\n",
      " [60 50 40]]\n",
      "Reversing one column: \n",
      " [[10 20 40]\n",
      " [60 50 30]]\n"
     ]
    }
   ],
   "source": [
    "arr = np.array([[10, 20, 30],\n",
    "               [40, 50, 60]])\n",
    "\n",
    "print(\"arr: \\n\", arr)\n",
    "\n",
    "# reversing contents of each array as well the arrays\n",
    "arr_reverse = np.flip(arr)\n",
    "print(\"Reversed: \\n\", arr_reverse)\n",
    "\n",
    "# reversing only rows\n",
    "arr_reverse_rows = np.flip(arr, 0)\n",
    "print(\"Reversing only rows: \\n\", arr_reverse_rows)\n",
    "\n",
    "# reversing only columns\n",
    "arr_reverse_columns = np.flip(arr, 1)\n",
    "print(\"Reversing only columns: \\n\", arr_reverse_columns)\n",
    "\n",
    "# reversing only 1 row\n",
    "arr[1] = np.flip(arr[1])\n",
    "print(\"Reversing one row: \\n\", arr)\n",
    "\n",
    "# reversing only 1 column\n",
    "arr[:, 2] = np.flip(arr[:, 2])\n",
    "print(\"Reversing one column: \\n\", arr)"
   ]
  },
  {
   "cell_type": "markdown",
   "metadata": {},
   "source": [
    "### Reshaping and Flattening Multidimensional arrays\n",
    "\n",
    "- .flatten()\n",
    "- ravel()\n",
    "\n",
    "Difference between the two is that the new array created using ravel() is actually a reference to the parent array. This means that any changes to the new array will affect the parent as well. Since ravel does not create a copy, it's memory efficient"
   ]
  },
  {
   "cell_type": "code",
   "execution_count": 4,
   "metadata": {},
   "outputs": [
    {
     "name": "stdout",
     "output_type": "stream",
     "text": [
      "[[ 0  1  2  3]\n",
      " [ 4  5  6  7]\n",
      " [ 8  9 10 11]\n",
      " [12 13 14 15]]\n",
      "[ 0  1  2  3  4  5  6  7  8  9 10 11 12 13 14 15]\n",
      "[ 0  1  2  3  4  5  6  7  8  9 10 11 12 13 14 15]\n"
     ]
    }
   ],
   "source": [
    "arr = np.arange(16).reshape(4,4)\n",
    "print(arr)\n",
    "\n",
    "flatten_arr = arr.flatten()\n",
    "print(flatten_arr)\n",
    "\n",
    "ravel_arr = arr.ravel()\n",
    "print(ravel_arr)"
   ]
  },
  {
   "cell_type": "markdown",
   "metadata": {},
   "source": [
    "### Saving and Loading Numpy Objects\n",
    "\n",
    "- np.save\n",
    "- np.savez\n",
    "- np.savetxt\n",
    "- np.load\n",
    "- np.loadtxt\n",
    "\n",
    "The ndarray objects can be saved to and loaded from the disk files with **loadtxt** and **savetxt** functions that handle normal text files, **load** and **save** functions that handle NumPy binary files with a .npy file extension, and a **savez** function that handles NumPy files with a .npz file extension\n",
    "\n",
    "The .npy and .npz files store data, shape, dtype, and other information required to reconstruct the ndarray in a way that allows the array to be correctly retrieved, even when the file is on another machine with different architecture\n",
    "\n",
    "If you want to store a single ndarray object, store it as a .npy file. If you want to store more than one ndarray object in a single file, save it as .npz file. "
   ]
  }
 ],
 "metadata": {
  "kernelspec": {
   "display_name": "Python 3 (ipykernel)",
   "language": "python",
   "name": "python3"
  },
  "language_info": {
   "codemirror_mode": {
    "name": "ipython",
    "version": 3
   },
   "file_extension": ".py",
   "mimetype": "text/x-python",
   "name": "python",
   "nbconvert_exporter": "python",
   "pygments_lexer": "ipython3",
   "version": "3.10.0"
  }
 },
 "nbformat": 4,
 "nbformat_minor": 4
}
